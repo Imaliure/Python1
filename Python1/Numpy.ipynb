{
  "nbformat": 4,
  "nbformat_minor": 0,
  "metadata": {
    "colab": {
      "provenance": []
    },
    "kernelspec": {
      "name": "python3",
      "display_name": "Python 3"
    },
    "language_info": {
      "name": "python"
    }
  },
  "cells": [
    {
      "cell_type": "markdown",
      "source": [
        "**1 - np.array() → Listeyi veya diziyi NumPy dizisine dönüştürür.**\n",
        "\n",
        "Açıklama: NumPy dizileri, Python listelerinden daha hızlı ve verimli hesaplamalar yapmamızı sağlar."
      ],
      "metadata": {
        "id": "ZlyC0OwHsKfd"
      }
    },
    {
      "cell_type": "code",
      "execution_count": 1,
      "metadata": {
        "colab": {
          "base_uri": "https://localhost:8080/"
        },
        "id": "yFrILYi1sDTO",
        "outputId": "b98a4a1a-3b06-4f2a-b8bf-041676b1b0f5"
      },
      "outputs": [
        {
          "output_type": "execute_result",
          "data": {
            "text/plain": [
              "array([1, 2, 3, 4, 5])"
            ]
          },
          "metadata": {},
          "execution_count": 1
        }
      ],
      "source": [
        "import numpy as np\n",
        "\n",
        "liste = [1, 2, 3, 4, 5]\n",
        "dizi = np.array(liste)\n",
        "\n",
        "dizi"
      ]
    },
    {
      "cell_type": "markdown",
      "source": [
        "**2 - np.arange() → Belirtilen aralıktaki sayılarla NumPy dizisi oluşturur.**\n",
        "\n",
        "Açıklama: range() fonksiyonuna benzer şekilde çalışır ancak NumPy dizisi döndürür."
      ],
      "metadata": {
        "id": "9MK3ylZ_sf25"
      }
    },
    {
      "cell_type": "code",
      "source": [
        "dizi = np.arange(0, 10, 2)  # 0'dan 10'a kadar 2'şer artan dizi\n",
        "dizi"
      ],
      "metadata": {
        "colab": {
          "base_uri": "https://localhost:8080/"
        },
        "id": "qOIYp4vksfUE",
        "outputId": "b99a5506-6c30-402e-b050-851d662e2be2"
      },
      "execution_count": 2,
      "outputs": [
        {
          "output_type": "execute_result",
          "data": {
            "text/plain": [
              "array([0, 2, 4, 6, 8])"
            ]
          },
          "metadata": {},
          "execution_count": 2
        }
      ]
    },
    {
      "cell_type": "markdown",
      "source": [
        "**3 - np.linspace() → Belirtilen aralıktaki sayıları eşit aralıklarla böler.**\n",
        "\n",
        "Açıklama: start ve stop arasında eşit aralıklı n sayı üretir."
      ],
      "metadata": {
        "id": "FML2lNQas83U"
      }
    },
    {
      "cell_type": "code",
      "source": [
        "dizi = np.linspace(0, 5, 10)  # 0 ile 5 arasında 10 eşit parça oluşturur\n",
        "dizi"
      ],
      "metadata": {
        "colab": {
          "base_uri": "https://localhost:8080/"
        },
        "id": "p0q3xrKrs9GN",
        "outputId": "81339d9b-8219-43ab-b33a-7fb4e8a96f8a"
      },
      "execution_count": 3,
      "outputs": [
        {
          "output_type": "execute_result",
          "data": {
            "text/plain": [
              "array([0.        , 0.55555556, 1.11111111, 1.66666667, 2.22222222,\n",
              "       2.77777778, 3.33333333, 3.88888889, 4.44444444, 5.        ])"
            ]
          },
          "metadata": {},
          "execution_count": 3
        }
      ]
    },
    {
      "cell_type": "markdown",
      "source": [
        "**4 - np.zeros() → Belirtilen boyutta sıfırlarla dolu bir dizi oluşturur.**\n",
        "\n",
        "Açıklama: Genellikle matris ve tensör işlemlerinde başlangıç verisi olarak kullanılır."
      ],
      "metadata": {
        "id": "5pF6bVc_tMO0"
      }
    },
    {
      "cell_type": "code",
      "source": [
        "matris = np.zeros((3, 4))  # 3 satır, 4 sütundan oluşan sıfır matrisi\n",
        "matris"
      ],
      "metadata": {
        "colab": {
          "base_uri": "https://localhost:8080/"
        },
        "id": "b4P-ZvjZtMde",
        "outputId": "224875da-78d4-4a09-c3b8-3f2a0c2dfa2f"
      },
      "execution_count": 4,
      "outputs": [
        {
          "output_type": "execute_result",
          "data": {
            "text/plain": [
              "array([[0., 0., 0., 0.],\n",
              "       [0., 0., 0., 0.],\n",
              "       [0., 0., 0., 0.]])"
            ]
          },
          "metadata": {},
          "execution_count": 4
        }
      ]
    },
    {
      "cell_type": "markdown",
      "source": [
        "**5 - np.ones() → Belirtilen boyutta birlerle dolu bir dizi oluşturur.**\n",
        "\n",
        "Açıklama: np.zeros() fonksiyonuna benzer şekilde, başlangıç verisi olarak kullanılır."
      ],
      "metadata": {
        "id": "H88Adj1ZtftL"
      }
    },
    {
      "cell_type": "code",
      "source": [
        "matris = np.ones((2, 3))  # 2x3 boyutunda bir matrisi birlerle doldurur\n",
        "matris"
      ],
      "metadata": {
        "colab": {
          "base_uri": "https://localhost:8080/"
        },
        "id": "tCuACjeutf9D",
        "outputId": "2f62d220-eae5-4345-8c63-566017c6c94a"
      },
      "execution_count": 5,
      "outputs": [
        {
          "output_type": "execute_result",
          "data": {
            "text/plain": [
              "array([[1., 1., 1.],\n",
              "       [1., 1., 1.]])"
            ]
          },
          "metadata": {},
          "execution_count": 5
        }
      ]
    },
    {
      "cell_type": "markdown",
      "source": [
        "**6 - np.random.rand() → 0 ile 1 arasında rastgele sayılar üretir.**\n",
        "\n",
        "Açıklama: Tek boyutlu veya çok boyutlu rastgele sayı dizileri oluşturur.\n"
      ],
      "metadata": {
        "id": "UrZ4PYV7tvdp"
      }
    },
    {
      "cell_type": "code",
      "source": [
        "rastgele_dizi = np.random.rand(3, 3)  # 3x3'lük rastgele sayılar matrisi\n",
        "rastgele_dizi"
      ],
      "metadata": {
        "colab": {
          "base_uri": "https://localhost:8080/"
        },
        "id": "aN7iGYA6tvpX",
        "outputId": "3a8e614c-3d6d-4f0b-a7f9-72665d9fedab"
      },
      "execution_count": 6,
      "outputs": [
        {
          "output_type": "execute_result",
          "data": {
            "text/plain": [
              "array([[0.64254359, 0.34995561, 0.33716739],\n",
              "       [0.85303709, 0.20750412, 0.48479005],\n",
              "       [0.87902143, 0.80273688, 0.75411625]])"
            ]
          },
          "metadata": {},
          "execution_count": 6
        }
      ]
    },
    {
      "cell_type": "markdown",
      "source": [
        "**7 - np.reshape() → Dizinin şeklini değiştirir.**\n",
        "\n",
        "Açıklama: Dizi eleman sayısı sabit kalırken, dizinin satır-sütun yapısını değiştirir."
      ],
      "metadata": {
        "id": "w6UfGEbJt67J"
      }
    },
    {
      "cell_type": "code",
      "source": [
        "dizi = np.arange(12)  # [0 1 2 ... 11]\n",
        "yeni_dizi = dizi.reshape(3, 4)  # 3 satır, 4 sütunluk hale getirir\n",
        "yeni_dizi"
      ],
      "metadata": {
        "colab": {
          "base_uri": "https://localhost:8080/"
        },
        "id": "QOmozGtqt7T8",
        "outputId": "9664ac6c-2887-4895-feb9-c8514397c555"
      },
      "execution_count": 10,
      "outputs": [
        {
          "output_type": "execute_result",
          "data": {
            "text/plain": [
              "array([[ 0,  1,  2,  3],\n",
              "       [ 4,  5,  6,  7],\n",
              "       [ 8,  9, 10, 11]])"
            ]
          },
          "metadata": {},
          "execution_count": 10
        }
      ]
    },
    {
      "cell_type": "markdown",
      "source": [
        "**8 - np.sum() → Dizideki elemanların toplamını alır.**\n",
        "\n",
        "Açıklama: Belirtilen eksene göre toplama işlemi yapabilir."
      ],
      "metadata": {
        "id": "c9emvUD5uVh6"
      }
    },
    {
      "cell_type": "code",
      "source": [
        "matris = np.array([[1, 2, 3], [4, 5, 6]])\n",
        "toplam = np.sum(matris)  # Tüm elemanların toplamı\n",
        "\n",
        "satir_toplamları = np.sum(matris, axis=1)  # Her satırın toplamı\n",
        "\n",
        "sutun_toplamları = np.sum(matris, axis=0)  # Her sütundaki toplam\n",
        "\n",
        "print(f'Toplam: {toplam}')\n",
        "print(f'Satır Toplamları: {satir_toplamları}')\n",
        "print(f'Sütun Toplamları: {sutun_toplamları}')"
      ],
      "metadata": {
        "colab": {
          "base_uri": "https://localhost:8080/"
        },
        "id": "RDEqc8XduVvD",
        "outputId": "7c1cc087-81a6-491e-c5b4-b51eebd36431"
      },
      "execution_count": 14,
      "outputs": [
        {
          "output_type": "stream",
          "name": "stdout",
          "text": [
            "Toplam: 21\n",
            "Satır Toplamları: [ 6 15]\n",
            "Sütun Toplamları: [5 7 9]\n"
          ]
        }
      ]
    },
    {
      "cell_type": "markdown",
      "source": [
        "**9 - np.mean() → Ortalamayı hesaplar.**\n",
        "\n",
        "Açıklama: Dizinin genel veya belirli bir eksendeki ortalamasını döndürür."
      ],
      "metadata": {
        "id": "IBNXxQ9ZvGT9"
      }
    },
    {
      "cell_type": "code",
      "source": [
        "dizi = np.array([10, 20, 30, 40])\n",
        "ortalama = np.mean(dizi)  # Dizinin ortalaması\n",
        "print(f'ortalama:{ortalama}')"
      ],
      "metadata": {
        "colab": {
          "base_uri": "https://localhost:8080/"
        },
        "id": "rPmTt99evGjP",
        "outputId": "eae283e3-34a3-4782-d592-e18c18857036"
      },
      "execution_count": 17,
      "outputs": [
        {
          "output_type": "stream",
          "name": "stdout",
          "text": [
            "ortalama:25.0\n"
          ]
        }
      ]
    },
    {
      "cell_type": "markdown",
      "source": [
        "**10 - np.argmax() & np.argmin() → Maksimum ve minimum elemanın indeksini döndürür.**\n",
        "\n",
        "Açıklama: Büyük veri setlerinde maksimum/minimum değerlerin nerede olduğunu bulmak için kullanılır."
      ],
      "metadata": {
        "id": "LPQVE7gIvdE-"
      }
    },
    {
      "cell_type": "code",
      "source": [
        "dizi = np.array([3, 7, 2, 9, 5])\n",
        "print(f'En büyük elemanın indeksi:{np.argmax(dizi)}')\n",
        "print(f'En küçük elemanın indeksi:{np.argmin(dizi)}')"
      ],
      "metadata": {
        "colab": {
          "base_uri": "https://localhost:8080/"
        },
        "id": "RfHkDn8rvdQD",
        "outputId": "47189394-2b45-4beb-d470-99c8ca9b04b7"
      },
      "execution_count": 19,
      "outputs": [
        {
          "output_type": "stream",
          "name": "stdout",
          "text": [
            "En büyük elemanın indeksi:3\n",
            "En küçük elemanın indeksi:2\n"
          ]
        }
      ]
    }
  ]
}